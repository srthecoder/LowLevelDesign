{
 "cells": [
  {
   "cell_type": "markdown",
   "id": "72371309",
   "metadata": {},
   "source": [
    "## Implementing Abstract Methods & Inheritance"
   ]
  },
  {
   "cell_type": "code",
   "execution_count": 34,
   "id": "fcf2df3e",
   "metadata": {},
   "outputs": [],
   "source": [
    "from abc import ABC, abstractmethod # Abstract Base Class module for Python\n",
    "# This is an abstract class that defines a blueprint for all shapes\n",
    "# It cannot be instantiated directly, but it can be subclassed\n",
    "\n",
    "class Shape(ABC): # parent class\n",
    "    def __init__(self, color, is_filled):\n",
    "        self.color = color\n",
    "        self.is_filled = is_filled\n",
    "    \n",
    "    @abstractmethod\n",
    "    def area(self):\n",
    "        pass\n",
    "\n",
    "    def describe(self):\n",
    "        print(f\"It is {self.color} and {'filled' if self.is_filled else 'not filled'}.\")"
   ]
  },
  {
   "cell_type": "code",
   "execution_count": 24,
   "id": "6cbd09d4",
   "metadata": {},
   "outputs": [
    {
     "ename": "TypeError",
     "evalue": "Can't instantiate abstract class Shape without an implementation for abstract method 'area'",
     "output_type": "error",
     "traceback": [
      "\u001b[0;31m---------------------------------------------------------------------------\u001b[0m",
      "\u001b[0;31mTypeError\u001b[0m                                 Traceback (most recent call last)",
      "Cell \u001b[0;32mIn[24], line 1\u001b[0m\n\u001b[0;32m----> 1\u001b[0m shape \u001b[38;5;241m=\u001b[39m Shape(\u001b[38;5;124m\"\u001b[39m\u001b[38;5;124mred\u001b[39m\u001b[38;5;124m\"\u001b[39m, \u001b[38;5;28;01mTrue\u001b[39;00m)\n",
      "\u001b[0;31mTypeError\u001b[0m: Can't instantiate abstract class Shape without an implementation for abstract method 'area'"
     ]
    }
   ],
   "source": [
    "shape = Shape(\"red\", True) \n",
    "# This will raise an error because Shape is an abstract class and cannot be instantiated directly"
   ]
  },
  {
   "cell_type": "markdown",
   "id": "7d2a3ee6",
   "metadata": {},
   "source": [
    "Parent class **Shape** is an abstract class. All it's child classes, **MUST** imlement all it's abstract methods"
   ]
  },
  {
   "cell_type": "code",
   "execution_count": null,
   "id": "7e2cc65d",
   "metadata": {},
   "outputs": [],
   "source": [
    "class Circle(Shape): # child class\n",
    "    def __init__(self, color, is_filled, radius):\n",
    "        super().__init__(color, is_filled) # call parent class constructor, practice code reuse\n",
    "        self.radius = radius\n",
    "    \n",
    "    def area(self):\n",
    "        return 3.14 * self.radius * self.radius\n",
    "        \n",
    "class Square(Shape): # child class\n",
    "    def __init__(self, color, is_filled, side):\n",
    "        super().__init__(color, is_filled) # call parent class constructor, practice code reuse\n",
    "        self.side = side\n",
    "    \n",
    "    def area(self):\n",
    "        return self.side * self.side\n",
    "        \n",
    "class Rectangle(Shape): # child class\n",
    "    def __init__(self, color, is_filled, length, breadth):\n",
    "        super().__init__(color, is_filled) # call parent class constructor, practice code reuse\n",
    "        self.length = length\n",
    "        self.breadth = breadth\n",
    "    \n",
    "    def area(self):\n",
    "        return self.length * self.breadth\n",
    "    "
   ]
  },
  {
   "cell_type": "code",
   "execution_count": 26,
   "id": "5421d4c7",
   "metadata": {},
   "outputs": [
    {
     "name": "stdout",
     "output_type": "stream",
     "text": [
      "Shape circle is Red, with area of 3.14\n",
      "Shape square is Green, with area of 4\n",
      "Shape rectangle is Orange, with area of 12\n"
     ]
    }
   ],
   "source": [
    "shape1 = Circle(\"Red\", True, 1)\n",
    "shape2 = Square(\"Green\", False, 2)\n",
    "shape3 = Rectangle(\"Orange\", True, 3, 4)\n",
    "\n",
    "print(f\"Shape circle is {shape1.color}, with area of {shape1.area()}\")\n",
    "print(f\"Shape square is {shape2.color}, with area of {shape2.area()}\")\n",
    "print(f\"Shape rectangle is {shape3.color}, with area of {shape3.area()}\")"
   ]
  },
  {
   "cell_type": "markdown",
   "id": "6fb2525f",
   "metadata": {},
   "source": [
    "## Method Overriding"
   ]
  },
  {
   "cell_type": "code",
   "execution_count": null,
   "id": "1b4c1bc6",
   "metadata": {},
   "outputs": [],
   "source": [
    "class Triangle(Shape): # child class\n",
    "    def __init__(self, color, is_filled, base, height):\n",
    "        super().__init__(color, is_filled) # call parent class constructor, practice code reuse\n",
    "        self.base = base\n",
    "        self.height = height\n",
    "    \n",
    "    def area(self):\n",
    "        return 0.5 * self.base * self.height\n",
    "    \n",
    "    def describe(self): # overrides the describe method from parent class\n",
    "        print(f\"This is a triangle with area {self.area()}.\") \n",
    "        super().describe() # calls describe method from parent class\n"
   ]
  },
  {
   "cell_type": "code",
   "execution_count": null,
   "id": "0334b939",
   "metadata": {},
   "outputs": [
    {
     "name": "stdout",
     "output_type": "stream",
     "text": [
      "This is a triangle with area 6.0.\n",
      "It is Blue and filled.\n"
     ]
    }
   ],
   "source": [
    "shape4 = Triangle(\"Blue\", True, 3, 4)\n",
    "shape4.describe() "
   ]
  },
  {
   "cell_type": "markdown",
   "id": "b1217e99",
   "metadata": {},
   "source": [
    "## Polymorphism"
   ]
  },
  {
   "cell_type": "markdown",
   "id": "95b159da",
   "metadata": {},
   "source": [
    "# RELATIONSHIPS"
   ]
  },
  {
   "cell_type": "markdown",
   "id": "ea806eb2",
   "metadata": {},
   "source": [
    "## 1. Aggregation (Has-a)"
   ]
  },
  {
   "cell_type": "markdown",
   "id": "5043452a",
   "metadata": {},
   "source": [
    "- Books can exist independently, \n",
    "- Library can exist independently. \n",
    "- But one object (whole) can contain references to other independent objects. \n",
    "    - Here Library (whole) contains Books (parts)"
   ]
  },
  {
   "cell_type": "code",
   "execution_count": 49,
   "id": "db3fc4ad",
   "metadata": {},
   "outputs": [
    {
     "name": "stdout",
     "output_type": "stream",
     "text": [
      "The Los Angeles Public Library has 3 books.\n"
     ]
    }
   ],
   "source": [
    "class Library:\n",
    "    num_books = 0\n",
    "    def __init__(self, name):\n",
    "        self.name = name\n",
    "        self.books = []\n",
    "    \n",
    "    def addBook(self, book):\n",
    "        Library.num_books += 1\n",
    "        self.books.append(Book)\n",
    "    \n",
    "    def describe(book):\n",
    "        print(f\"Title: {book.title}, Author: {book.author}\")\n",
    "\n",
    "    # def search(book):\n",
    "        \n",
    "\n",
    "class Book:\n",
    "    def __init__(self, title, author):\n",
    "        self.title = title\n",
    "        self.author = author\n",
    "    \n",
    "\n",
    "book1 = Book(\"Sherlock\", \"Sir Arthur Conan Doyle\") \n",
    "book2 = Book(\"Harry Potter\", \"J.K. Rowling\")\n",
    "book3 = Book(\"Donkeys in the Sand\", \"Roald Dahl\")\n",
    "\n",
    "library = Library(\"Los Angeles Public Library\")\n",
    "\n",
    "library.addBook(book1)\n",
    "library.addBook(book2)\n",
    "library.addBook(book3)\n",
    "\n",
    "print(f\"The {library.name} has {Library.num_books} books.\")"
   ]
  },
  {
   "cell_type": "markdown",
   "id": "f9efd355",
   "metadata": {},
   "source": [
    "## 2. Composition (Owns-a)"
   ]
  },
  {
   "cell_type": "markdown",
   "id": "20167379",
   "metadata": {},
   "source": [
    "- Car owns engine & wheels.\n",
    "- If Car object does not exist, engine & wheels fail to exist as well."
   ]
  },
  {
   "cell_type": "code",
   "execution_count": 51,
   "id": "30e49ac6",
   "metadata": {},
   "outputs": [
    {
     "name": "stdout",
     "output_type": "stream",
     "text": [
      "Porsche has 500 and 19 inch wheels.\n",
      "Mercedes has 338 and 18 inch wheels.\n"
     ]
    }
   ],
   "source": [
    "class Engine:\n",
    "    def __init__(self, horsepower):\n",
    "        self.horsepower = horsepower\n",
    "\n",
    "class Wheels:\n",
    "    def __init__(self, size):\n",
    "        self.size = size\n",
    "\n",
    "class Car:\n",
    "    def __init__(self, model, horsepower, wheelsize):\n",
    "        self.model = model\n",
    "        self.engine = Engine(horsepower)\n",
    "        self.wheels = Wheels(wheelsize)\n",
    "\n",
    "    def describe(self):\n",
    "        print(f\"{self.model} has {self.engine.horsepower} and {self.wheels.size} inch wheels.\")\n",
    "\n",
    "car1 = Car(\"Porsche\", 500, 19)\n",
    "car2 = Car(\"Mercedes\", 338, 18)\n",
    "\n",
    "car1.describe()\n",
    "car2.describe()\n",
    "\n"
   ]
  },
  {
   "cell_type": "markdown",
   "id": "38a1c334",
   "metadata": {},
   "source": [
    "## Static Methods vs Instance Methods"
   ]
  },
  {
   "cell_type": "markdown",
   "id": "54eebe86",
   "metadata": {},
   "source": [
    "- static methods - belong to class\n",
    "- instance methods - belong to instance of that class"
   ]
  },
  {
   "cell_type": "code",
   "execution_count": 59,
   "id": "1085d9d8",
   "metadata": {},
   "outputs": [],
   "source": [
    "class Employee:\n",
    "    def __init__(self, name, position):\n",
    "        self.name = name\n",
    "        self.position = position\n",
    "\n",
    "    def get_info(self):\n",
    "        return f\"{self.name} is a {self.position} within Special Projects Team @ Amazon.\"\n",
    "    \n",
    "    @staticmethod\n",
    "    def is_valid_position(position):\n",
    "        valid_positions = [\"Manager\", \"SDE I\", \"Research Scientist\", \"Principal SDE\"]\n",
    "        return f\"{position} is {\"a valid\" if position in valid_positions else \"an invalid\"} position within this team.\""
   ]
  },
  {
   "cell_type": "code",
   "execution_count": 61,
   "id": "6fd8598a",
   "metadata": {},
   "outputs": [
    {
     "name": "stdout",
     "output_type": "stream",
     "text": [
      "SDE I is a valid position within this team.\n",
      "Rocket Scientist is an invalid position within this team.\n",
      "\n",
      "\n",
      "Rika Rudra is a SDE I within Special Projects Team @ Amazon.\n",
      "Alexander Ratnikov is a Manager within Special Projects Team @ Amazon.\n",
      "Mike Li is a Principal SDE within Special Projects Team @ Amazon.\n"
     ]
    }
   ],
   "source": [
    "# Static methods can be called on the class itself without creating an instance\n",
    "print(Employee.is_valid_position(\"SDE I\"))\n",
    "print(Employee.is_valid_position(\"Rocket Scientist\"))\n",
    "print(\"\\n\")\n",
    "#  Instance methods need to be called on an instance of the class\n",
    "emp1 = Employee(\"Rika Rudra\", \"SDE I\")\n",
    "emp2 = Employee(\"Alexander Ratnikov\", \"Manager\")\n",
    "emp3 = Employee(\"Mike Li\", \"Principal SDE\")\n",
    "\n",
    "print(emp1.get_info())\n",
    "print(emp2.get_info())\n",
    "print(emp3.get_info())"
   ]
  },
  {
   "cell_type": "code",
   "execution_count": null,
   "id": "b0776172",
   "metadata": {},
   "outputs": [],
   "source": []
  }
 ],
 "metadata": {
  "kernelspec": {
   "display_name": "base",
   "language": "python",
   "name": "python3"
  },
  "language_info": {
   "codemirror_mode": {
    "name": "ipython",
    "version": 3
   },
   "file_extension": ".py",
   "mimetype": "text/x-python",
   "name": "python",
   "nbconvert_exporter": "python",
   "pygments_lexer": "ipython3",
   "version": "3.12.4"
  }
 },
 "nbformat": 4,
 "nbformat_minor": 5
}
